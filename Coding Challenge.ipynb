{
 "cells": [
  {
   "cell_type": "markdown",
   "metadata": {},
   "source": [
    "# FindExactly Challenge\n"
   ]
  },
  {
   "cell_type": "markdown",
   "metadata": {},
   "source": [
    "## Imports and other setup things"
   ]
  },
  {
   "cell_type": "code",
   "execution_count": 4,
   "metadata": {},
   "outputs": [
    {
     "name": "stderr",
     "output_type": "stream",
     "text": [
      "[nltk_data] Downloading package stopwords to /home/ian/nltk_data...\n",
      "[nltk_data]   Package stopwords is already up-to-date!\n",
      "[nltk_data] Downloading package punkt to /home/ian/nltk_data...\n",
      "[nltk_data]   Package punkt is already up-to-date!\n"
     ]
    }
   ],
   "source": [
    "import sqlite3\n",
    "import sys\n",
    "from sqlite3 import Error\n",
    "import json\n",
    "#!{sys.executable} -m pip install pandas\n",
    "import pandas as pd\n",
    "#!{sys.executable} -m pip install sklearn\n",
    "from sklearn.feature_extraction.text import TfidfTransformer, CountVectorizer, TfidfVectorizer\n",
    "#!conda install --yes --prefix {sys.prefix} -c conda-forge cld2-cffi \n",
    "#import cld2\n",
    "#!{sys.executable} -m pip install matplotlib\n",
    "import matplotlib.pyplot as plt\n",
    "from sklearn.feature_extraction.text import TfidfVectorizer\n",
    "from sklearn.cluster import KMeans\n",
    "from sklearn.decomposition import PCA, IncrementalPCA\n",
    "from sklearn.manifold import TSNE\n",
    "#!{sys.executable} -m pip install nltk\n",
    "import nltk\n",
    "from nltk.sentiment.util import demo_liu_hu_lexicon\n",
    "from nltk.corpus import stopwords\n",
    "from nltk.tokenize import word_tokenize \n",
    "nltk.download('stopwords')\n",
    "nltk.download('punkt')\n",
    "import numpy as np\n",
    "import matplotlib.cm as cm\n",
    "from nltk.corpus import opinion_lexicon\n",
    "import math"
   ]
  },
  {
   "cell_type": "markdown",
   "metadata": {},
   "source": [
    "# Clustering\n",
    "\n",
    "I decided to apply KMeans clustering with tf-idf pre-processing in order to identify geographical clues from the reviews. I treat the entire review dataset as a single corpus in order to eliminate common occurrences of words(references to Las Vegas etc). Then, I pass it through a simple KMeans algorithm searching for five clusters. \n",
    "\n",
    "## Results\n",
    "\n",
    "Unfortutently the clustering did not yield many interesting results. Although some clusters have been identified there is a large disparity in the distribution of reviews among each cluster. In addition, there is not a clear divide among each cluster. It seems that there exist some features in the data that are overwhelming the algorithm and obscuring the results. \n",
    "\n",
    "## Graph \n",
    "For first attempt was to graph the labels on the data points against their geographical locations to look for a similarity between my identified clusters and any possible location based clusters. Unfortutently, there does not seem to be any similarities between these clusters. \n",
    "\n",
    "## Analysis \n",
    "\n",
    "I think the main issue in regards to the algorithm has to do with extra features in the data. Since my clustering attempts do no revolve around sentiment the inclusion of these features could be making it more difficult to identify other clusters. Removing these features  from the data(possibly by removing all positive or negative words) could yield better results. Although, I did attempt a super simple negative/positive word removal process and it did seem to  clean up the ata in a meaningful way.\n",
    "\n",
    "I did attempt to map the clusters against categories, unfortutently I could not think of a good way to reduce the dimensionality of the data in such a way that would permit comparison. Per cluster, there are normally about 300 individual categories of establishments -- which makes it difficult for comparison against my identified clusters. \n",
    "\n",
    "Looking manually at the results there seems to be a wide spread of categories across each cluster, again, most likely due to other features in the text. \n",
    "\n",
    "\n",
    "## Possible Improvements\n",
    "\n",
    "- Find a method to reduce the category dimensions for cluster comparison\n",
    "- Remove features in the data that are not important for this analysis(sentiment) "
   ]
  },
  {
   "cell_type": "code",
   "execution_count": 61,
   "metadata": {},
   "outputs": [],
   "source": [
    "business_data = None\n",
    "review_data = None"
   ]
  },
  {
   "cell_type": "code",
   "execution_count": 62,
   "metadata": {},
   "outputs": [],
   "source": [
    "# Read in original files\n",
    "# with open(\"./dataset/yelp_academic_dataset_business.json\") as file:\n",
    "#     business_data = pd.read_json(file, lines=True)\n",
    "#     business_data = business_data[business_data.city == 'Las Vegas']\n",
    "#     print(business_data.head())\n",
    "#     print(len(business_data))\n",
    "#     business_data.to_pickle(\"business.pkl\")\n",
    "# Reduced down to only las vegas reviews locally\n",
    "# with open(\"./dataset/las_vegas_reviews.json\") as file:\n",
    "#     review_data = pd.read_json(file, lines=True, chunksize=1000)\n",
    "#     review_data = review_data.read()\n",
    "#     print(review_data.head())\n",
    "#     print(len(review_data))\n",
    "# # review_data.to_pickle(\"reviews.pkl\")"
   ]
  },
  {
   "cell_type": "code",
   "execution_count": 63,
   "metadata": {},
   "outputs": [
    {
     "name": "stdout",
     "output_type": "stream",
     "text": [
      "reading from pickle\n",
      "reading reviews from pickle\n"
     ]
    }
   ],
   "source": [
    "# reload data\n",
    "if business_data is None:\n",
    "    print(\"reading from pickle\")\n",
    "    business_data = pd.read_pickle(\"business.pkl\")\n",
    "if review_data is None:\n",
    "    print(\"reading reviews from pickle\")\n",
    "    review_data = pd.read_pickle(\"reviews.pkl\")"
   ]
  },
  {
   "cell_type": "markdown",
   "metadata": {},
   "source": [
    "#### I limit the review set to something smaller, I was having memory issues on my computer"
   ]
  },
  {
   "cell_type": "code",
   "execution_count": 64,
   "metadata": {},
   "outputs": [
    {
     "data": {
      "text/html": [
       "<div>\n",
       "<style scoped>\n",
       "    .dataframe tbody tr th:only-of-type {\n",
       "        vertical-align: middle;\n",
       "    }\n",
       "\n",
       "    .dataframe tbody tr th {\n",
       "        vertical-align: top;\n",
       "    }\n",
       "\n",
       "    .dataframe thead th {\n",
       "        text-align: right;\n",
       "    }\n",
       "</style>\n",
       "<table border=\"1\" class=\"dataframe\">\n",
       "  <thead>\n",
       "    <tr style=\"text-align: right;\">\n",
       "      <th></th>\n",
       "      <th>review_id</th>\n",
       "      <th>user_id</th>\n",
       "      <th>business_id</th>\n",
       "      <th>stars</th>\n",
       "      <th>useful</th>\n",
       "      <th>funny</th>\n",
       "      <th>cool</th>\n",
       "      <th>text</th>\n",
       "      <th>date</th>\n",
       "    </tr>\n",
       "  </thead>\n",
       "  <tbody>\n",
       "    <tr>\n",
       "      <th>0</th>\n",
       "      <td>xQY8N_XvtGbearJ5X4QryQ</td>\n",
       "      <td>OwjRMXRC0KyPrIlcjaXeFQ</td>\n",
       "      <td>-MhfebM0QIsKt87iDN-FNw</td>\n",
       "      <td>2</td>\n",
       "      <td>5</td>\n",
       "      <td>0</td>\n",
       "      <td>0</td>\n",
       "      <td>As someone who has worked with many museums, I...</td>\n",
       "      <td>2015-04-15 05:21:16</td>\n",
       "    </tr>\n",
       "    <tr>\n",
       "      <th>1</th>\n",
       "      <td>i6g_oA9Yf9Y31qt0wibXpw</td>\n",
       "      <td>ofKDkJKXSKZXu5xJNGiiBQ</td>\n",
       "      <td>5JxlZaqCnk1MnbgRirs40Q</td>\n",
       "      <td>1</td>\n",
       "      <td>0</td>\n",
       "      <td>0</td>\n",
       "      <td>0</td>\n",
       "      <td>Dismal, lukewarm, defrosted-tasting \"TexMex\" g...</td>\n",
       "      <td>2011-05-27 05:30:52</td>\n",
       "    </tr>\n",
       "    <tr>\n",
       "      <th>2</th>\n",
       "      <td>lpFIJYpsvDxyph-kPzZ6aA</td>\n",
       "      <td>dsd-KNYKMpx6ma_sRWCSkQ</td>\n",
       "      <td>FNCJpSn0tL9iqoY3JC73qw</td>\n",
       "      <td>5</td>\n",
       "      <td>0</td>\n",
       "      <td>0</td>\n",
       "      <td>0</td>\n",
       "      <td>Awesome office and staff, very professional an...</td>\n",
       "      <td>2017-07-18 18:31:54</td>\n",
       "    </tr>\n",
       "    <tr>\n",
       "      <th>3</th>\n",
       "      <td>TfVth7UNfgilv4J3exPB3A</td>\n",
       "      <td>s5j_CRBWDCCMDJ6r7AYqjQ</td>\n",
       "      <td>PA61Rwk3AMwOEXHevA7nkg</td>\n",
       "      <td>5</td>\n",
       "      <td>0</td>\n",
       "      <td>0</td>\n",
       "      <td>0</td>\n",
       "      <td>Maria is VERY good at what she does with great...</td>\n",
       "      <td>2013-12-28 21:02:55</td>\n",
       "    </tr>\n",
       "    <tr>\n",
       "      <th>4</th>\n",
       "      <td>wJMjt5C2y1RKgY0Xb9jhrA</td>\n",
       "      <td>1YIQGP-a534nyksaweEFYA</td>\n",
       "      <td>Naa6E0YU0Wr7jCuCE3pYtQ</td>\n",
       "      <td>5</td>\n",
       "      <td>3</td>\n",
       "      <td>0</td>\n",
       "      <td>0</td>\n",
       "      <td>We purchased new office furniture from this lo...</td>\n",
       "      <td>2015-07-03 21:48:51</td>\n",
       "    </tr>\n",
       "  </tbody>\n",
       "</table>\n",
       "</div>"
      ],
      "text/plain": [
       "                review_id                 user_id             business_id  \\\n",
       "0  xQY8N_XvtGbearJ5X4QryQ  OwjRMXRC0KyPrIlcjaXeFQ  -MhfebM0QIsKt87iDN-FNw   \n",
       "1  i6g_oA9Yf9Y31qt0wibXpw  ofKDkJKXSKZXu5xJNGiiBQ  5JxlZaqCnk1MnbgRirs40Q   \n",
       "2  lpFIJYpsvDxyph-kPzZ6aA  dsd-KNYKMpx6ma_sRWCSkQ  FNCJpSn0tL9iqoY3JC73qw   \n",
       "3  TfVth7UNfgilv4J3exPB3A  s5j_CRBWDCCMDJ6r7AYqjQ  PA61Rwk3AMwOEXHevA7nkg   \n",
       "4  wJMjt5C2y1RKgY0Xb9jhrA  1YIQGP-a534nyksaweEFYA  Naa6E0YU0Wr7jCuCE3pYtQ   \n",
       "\n",
       "   stars  useful  funny  cool  \\\n",
       "0      2       5      0     0   \n",
       "1      1       0      0     0   \n",
       "2      5       0      0     0   \n",
       "3      5       0      0     0   \n",
       "4      5       3      0     0   \n",
       "\n",
       "                                                text                date  \n",
       "0  As someone who has worked with many museums, I... 2015-04-15 05:21:16  \n",
       "1  Dismal, lukewarm, defrosted-tasting \"TexMex\" g... 2011-05-27 05:30:52  \n",
       "2  Awesome office and staff, very professional an... 2017-07-18 18:31:54  \n",
       "3  Maria is VERY good at what she does with great... 2013-12-28 21:02:55  \n",
       "4  We purchased new office furniture from this lo... 2015-07-03 21:48:51  "
      ]
     },
     "execution_count": 64,
     "metadata": {},
     "output_type": "execute_result"
    }
   ],
   "source": [
    "review_data = review_data[:10000]\n",
    "review_data.head()"
   ]
  },
  {
   "cell_type": "code",
   "execution_count": 65,
   "metadata": {},
   "outputs": [
    {
     "data": {
      "text/html": [
       "<div>\n",
       "<style scoped>\n",
       "    .dataframe tbody tr th:only-of-type {\n",
       "        vertical-align: middle;\n",
       "    }\n",
       "\n",
       "    .dataframe tbody tr th {\n",
       "        vertical-align: top;\n",
       "    }\n",
       "\n",
       "    .dataframe thead th {\n",
       "        text-align: right;\n",
       "    }\n",
       "</style>\n",
       "<table border=\"1\" class=\"dataframe\">\n",
       "  <thead>\n",
       "    <tr style=\"text-align: right;\">\n",
       "      <th></th>\n",
       "      <th>tfidf</th>\n",
       "    </tr>\n",
       "  </thead>\n",
       "  <tbody>\n",
       "    <tr>\n",
       "      <th>lukewarm defrosted tasting</th>\n",
       "      <td>0.128407</td>\n",
       "    </tr>\n",
       "    <tr>\n",
       "      <th>barely nibbled entrees</th>\n",
       "      <td>0.128407</td>\n",
       "    </tr>\n",
       "    <tr>\n",
       "      <th>who seeing us</th>\n",
       "      <td>0.128407</td>\n",
       "    </tr>\n",
       "    <tr>\n",
       "      <th>we re from</th>\n",
       "      <td>0.128407</td>\n",
       "    </tr>\n",
       "    <tr>\n",
       "      <th>jail critters who</th>\n",
       "      <td>0.128407</td>\n",
       "    </tr>\n",
       "    <tr>\n",
       "      <th>...</th>\n",
       "      <td>...</td>\n",
       "    </tr>\n",
       "    <tr>\n",
       "      <th>got the chile</th>\n",
       "      <td>0.000000</td>\n",
       "    </tr>\n",
       "    <tr>\n",
       "      <th>got the chilaquiles</th>\n",
       "      <td>0.000000</td>\n",
       "    </tr>\n",
       "    <tr>\n",
       "      <th>got the chicken</th>\n",
       "      <td>0.000000</td>\n",
       "    </tr>\n",
       "    <tr>\n",
       "      <th>got the cheesecake</th>\n",
       "      <td>0.000000</td>\n",
       "    </tr>\n",
       "    <tr>\n",
       "      <th>雖然鄰近區域早已經開設了許多間名聲遠播的知名餐廳 但與其追求名聲去跟著排隊人擠人 倒不如來到這個充滿悠閒氣氛的用餐環境中</th>\n",
       "      <td>0.000000</td>\n",
       "    </tr>\n",
       "  </tbody>\n",
       "</table>\n",
       "<p>447474 rows × 1 columns</p>\n",
       "</div>"
      ],
      "text/plain": [
       "                                                       tfidf\n",
       "lukewarm defrosted tasting                          0.128407\n",
       "barely nibbled entrees                              0.128407\n",
       "who seeing us                                       0.128407\n",
       "we re from                                          0.128407\n",
       "jail critters who                                   0.128407\n",
       "...                                                      ...\n",
       "got the chile                                       0.000000\n",
       "got the chilaquiles                                 0.000000\n",
       "got the chicken                                     0.000000\n",
       "got the cheesecake                                  0.000000\n",
       "雖然鄰近區域早已經開設了許多間名聲遠播的知名餐廳 但與其追求名聲去跟著排隊人擠人 倒不如來到這...  0.000000\n",
       "\n",
       "[447474 rows x 1 columns]"
      ]
     },
     "execution_count": 65,
     "metadata": {},
     "output_type": "execute_result"
    }
   ],
   "source": [
    "review_data = pd.merge(review_data, business_data, on='business_id')\n",
    "review_data = review_data[review_data['categories'].str.contains(\"Restaurant\") == True]\n",
    "# revs = revs.reset_index()\n",
    "# positive_words = set(opinion_lexicon.positive()).union(set(opinion_lexicon.negative()))\n",
    "# for i, row in revs.iterrows():\n",
    "#     word_set = set(word_tokenize(row.text))\n",
    "#     word_set = word_set.difference(positive_words)\n",
    "#     words = ' '.join(word_set)\n",
    "#     revs.at[i, 'text'] = words\n",
    "    \n",
    "\n",
    "\n",
    "tfidf_vectorizer=TfidfVectorizer(use_idf=True, ngram_range=(3,3))\n",
    "tfidf_vectorizer_vectors=tfidf_vectorizer.fit_transform(review_data.text)\n",
    "first_vector_tfidfvectorizer=tfidf_vectorizer_vectors[0]\n",
    "\n",
    "# place tf-idf values in a pandas data frame\n",
    "df = pd.DataFrame(first_vector_tfidfvectorizer.T.todense(), index=tfidf_vectorizer.get_feature_names(), columns=[\"tfidf\"])\n",
    "df.sort_values(by=[\"tfidf\"],ascending=False)"
   ]
  },
  {
   "cell_type": "code",
   "execution_count": null,
   "metadata": {},
   "outputs": [],
   "source": [
    "num_clusters = 5\n",
    "num_seeds = 8\n",
    "max_iterations = 250\n",
    "labels_color_map = {\n",
    "    0: '#20b2aa', 1: '#ff7373', 2: '#ffe4e1', 3: '#005073', 4: '#4d0404',\n",
    "    5: '#ccc0ba', 6: '#4700f9', 7: '#f6f900', 8: '#00f91d', 9: '#da8c49'\n",
    "}\n",
    "pca_num_components = 2\n",
    "tsne_num_components = 2\n",
    "\n",
    "def plot_tsne_pca(data, labels, kmeans):\n",
    "    print(\"plotting\")\n",
    "    max_label = max(labels)\n",
    "    max_items = np.random.choice(range(data.shape[0]), size=2000, replace=False)\n",
    "    \n",
    "    pca = PCA(n_components=5).fit_transform(data[max_items,:].todense())    \n",
    "    \n",
    "    idx = np.random.choice(range(pca.shape[0]), size=300, replace=False)\n",
    "    label_subset = labels[max_items]\n",
    "    label_subset = [cm.hsv(i/max_label) for i in label_subset[idx]]\n",
    "    \n",
    "    f, ax = plt.subplots(1, 2, figsize=(14, 6))\n",
    "    \n",
    "    ax[0].scatter(pca[idx, 0], pca[idx, 1], c=label_subset)\n",
    "    ax[0].set_title('PCA Cluster Plot')\n",
    "    centers = clustering_model.cluster_centers_\n",
    "# create k-means model with custom config\n",
    "clustering_model = KMeans(\n",
    "    n_clusters=num_clusters,\n",
    "    max_iter=max_iterations,\n",
    ")\n",
    "labels = clustering_model.fit_predict(tfidf_vectorizer_vectors)"
   ]
  },
  {
   "cell_type": "markdown",
   "metadata": {},
   "source": []
  },
  {
   "cell_type": "code",
   "execution_count": 70,
   "metadata": {},
   "outputs": [
    {
     "name": "stdout",
     "output_type": "stream",
     "text": [
      "plotting\n"
     ]
    },
    {
     "data": {
      "image/png": "[encoded data removed]",
      "text/plain": [
       "<Figure size 1008x432 with 2 Axes>"
      ]
     },
     "metadata": {
      "needs_background": "light"
     },
     "output_type": "display_data"
    }
   ],
   "source": [
    "labels\n",
    "plot_tsne_pca(tfidf_vectorizer_vectors, labels, clustering_model)"
   ]
  },
  {
   "cell_type": "code",
   "execution_count": 67,
   "metadata": {
    "scrolled": false
   },
   "outputs": [
    {
     "data": {
      "text/html": [
       "<div>\n",
       "<style scoped>\n",
       "    .dataframe tbody tr th:only-of-type {\n",
       "        vertical-align: middle;\n",
       "    }\n",
       "\n",
       "    .dataframe tbody tr th {\n",
       "        vertical-align: top;\n",
       "    }\n",
       "\n",
       "    .dataframe thead th {\n",
       "        text-align: right;\n",
       "    }\n",
       "</style>\n",
       "<table border=\"1\" class=\"dataframe\">\n",
       "  <thead>\n",
       "    <tr style=\"text-align: right;\">\n",
       "      <th></th>\n",
       "      <th>Label</th>\n",
       "      <th>review_id</th>\n",
       "      <th>user_id</th>\n",
       "      <th>business_id</th>\n",
       "      <th>stars_x</th>\n",
       "      <th>useful</th>\n",
       "      <th>funny</th>\n",
       "      <th>cool</th>\n",
       "      <th>text</th>\n",
       "      <th>date</th>\n",
       "      <th>...</th>\n",
       "      <th>state_y</th>\n",
       "      <th>postal_code_y</th>\n",
       "      <th>latitude_y</th>\n",
       "      <th>longitude_y</th>\n",
       "      <th>stars</th>\n",
       "      <th>review_count_y</th>\n",
       "      <th>is_open_y</th>\n",
       "      <th>attributes_y</th>\n",
       "      <th>categories_y</th>\n",
       "      <th>hours_y</th>\n",
       "    </tr>\n",
       "  </thead>\n",
       "  <tbody>\n",
       "    <tr>\n",
       "      <th>0</th>\n",
       "      <td>4</td>\n",
       "      <td>i6g_oA9Yf9Y31qt0wibXpw</td>\n",
       "      <td>ofKDkJKXSKZXu5xJNGiiBQ</td>\n",
       "      <td>5JxlZaqCnk1MnbgRirs40Q</td>\n",
       "      <td>1</td>\n",
       "      <td>0</td>\n",
       "      <td>0</td>\n",
       "      <td>0</td>\n",
       "      <td>Dismal, lukewarm, defrosted-tasting \"TexMex\" g...</td>\n",
       "      <td>2011-05-27 05:30:52</td>\n",
       "      <td>...</td>\n",
       "      <td>NV</td>\n",
       "      <td>89135</td>\n",
       "      <td>36.118343</td>\n",
       "      <td>-115.338821</td>\n",
       "      <td>3.5</td>\n",
       "      <td>56</td>\n",
       "      <td>0</td>\n",
       "      <td>{'RestaurantsAttire': 'u'casual'', 'Restaurant...</td>\n",
       "      <td>Restaurants, Mexican</td>\n",
       "      <td>{'Monday': '16:0-21:0', 'Tuesday': '16:0-21:0'...</td>\n",
       "    </tr>\n",
       "    <tr>\n",
       "      <th>1</th>\n",
       "      <td>4</td>\n",
       "      <td>Q9pkOKlRbHZy1pTUkTcBnQ</td>\n",
       "      <td>m-BZLIIh5PCAKnzH0qj_0Q</td>\n",
       "      <td>5JxlZaqCnk1MnbgRirs40Q</td>\n",
       "      <td>3</td>\n",
       "      <td>2</td>\n",
       "      <td>1</td>\n",
       "      <td>1</td>\n",
       "      <td>The three stars here don't represent a real re...</td>\n",
       "      <td>2012-06-26 07:51:00</td>\n",
       "      <td>...</td>\n",
       "      <td>NV</td>\n",
       "      <td>89135</td>\n",
       "      <td>36.118343</td>\n",
       "      <td>-115.338821</td>\n",
       "      <td>3.5</td>\n",
       "      <td>56</td>\n",
       "      <td>0</td>\n",
       "      <td>{'RestaurantsAttire': 'u'casual'', 'Restaurant...</td>\n",
       "      <td>Restaurants, Mexican</td>\n",
       "      <td>{'Monday': '16:0-21:0', 'Tuesday': '16:0-21:0'...</td>\n",
       "    </tr>\n",
       "    <tr>\n",
       "      <th>2</th>\n",
       "      <td>3</td>\n",
       "      <td>Y6hcNJ2bek3hSG4wm4UHKQ</td>\n",
       "      <td>PKEzKWv_FktMm2mGPjwd0Q</td>\n",
       "      <td>5JxlZaqCnk1MnbgRirs40Q</td>\n",
       "      <td>4</td>\n",
       "      <td>4</td>\n",
       "      <td>1</td>\n",
       "      <td>1</td>\n",
       "      <td>I've been here several times, but I never revi...</td>\n",
       "      <td>2011-02-15 02:35:38</td>\n",
       "      <td>...</td>\n",
       "      <td>NV</td>\n",
       "      <td>89135</td>\n",
       "      <td>36.118343</td>\n",
       "      <td>-115.338821</td>\n",
       "      <td>3.5</td>\n",
       "      <td>56</td>\n",
       "      <td>0</td>\n",
       "      <td>{'RestaurantsAttire': 'u'casual'', 'Restaurant...</td>\n",
       "      <td>Restaurants, Mexican</td>\n",
       "      <td>{'Monday': '16:0-21:0', 'Tuesday': '16:0-21:0'...</td>\n",
       "    </tr>\n",
       "    <tr>\n",
       "      <th>3</th>\n",
       "      <td>4</td>\n",
       "      <td>E7Qtf8zR-e2wXFpVuaNDWQ</td>\n",
       "      <td>GdnJtqYWVSBAjya-WdN5RQ</td>\n",
       "      <td>5JxlZaqCnk1MnbgRirs40Q</td>\n",
       "      <td>2</td>\n",
       "      <td>2</td>\n",
       "      <td>0</td>\n",
       "      <td>0</td>\n",
       "      <td>I took my folks here last weekend for dinner o...</td>\n",
       "      <td>2012-05-30 18:54:30</td>\n",
       "      <td>...</td>\n",
       "      <td>NV</td>\n",
       "      <td>89135</td>\n",
       "      <td>36.118343</td>\n",
       "      <td>-115.338821</td>\n",
       "      <td>3.5</td>\n",
       "      <td>56</td>\n",
       "      <td>0</td>\n",
       "      <td>{'RestaurantsAttire': 'u'casual'', 'Restaurant...</td>\n",
       "      <td>Restaurants, Mexican</td>\n",
       "      <td>{'Monday': '16:0-21:0', 'Tuesday': '16:0-21:0'...</td>\n",
       "    </tr>\n",
       "    <tr>\n",
       "      <th>4</th>\n",
       "      <td>4</td>\n",
       "      <td>Q3kju7l36U0KWfuZRL_wlw</td>\n",
       "      <td>bX_VFU48rabrU_yHNL2XZg</td>\n",
       "      <td>5JxlZaqCnk1MnbgRirs40Q</td>\n",
       "      <td>4</td>\n",
       "      <td>0</td>\n",
       "      <td>0</td>\n",
       "      <td>0</td>\n",
       "      <td>Above average in taste &amp; presentation, which i...</td>\n",
       "      <td>2012-11-07 00:05:33</td>\n",
       "      <td>...</td>\n",
       "      <td>NV</td>\n",
       "      <td>89135</td>\n",
       "      <td>36.118343</td>\n",
       "      <td>-115.338821</td>\n",
       "      <td>3.5</td>\n",
       "      <td>56</td>\n",
       "      <td>0</td>\n",
       "      <td>{'RestaurantsAttire': 'u'casual'', 'Restaurant...</td>\n",
       "      <td>Restaurants, Mexican</td>\n",
       "      <td>{'Monday': '16:0-21:0', 'Tuesday': '16:0-21:0'...</td>\n",
       "    </tr>\n",
       "  </tbody>\n",
       "</table>\n",
       "<p>5 rows × 36 columns</p>\n",
       "</div>"
      ],
      "text/plain": [
       "   Label               review_id                 user_id  \\\n",
       "0      4  i6g_oA9Yf9Y31qt0wibXpw  ofKDkJKXSKZXu5xJNGiiBQ   \n",
       "1      4  Q9pkOKlRbHZy1pTUkTcBnQ  m-BZLIIh5PCAKnzH0qj_0Q   \n",
       "2      3  Y6hcNJ2bek3hSG4wm4UHKQ  PKEzKWv_FktMm2mGPjwd0Q   \n",
       "3      4  E7Qtf8zR-e2wXFpVuaNDWQ  GdnJtqYWVSBAjya-WdN5RQ   \n",
       "4      4  Q3kju7l36U0KWfuZRL_wlw  bX_VFU48rabrU_yHNL2XZg   \n",
       "\n",
       "              business_id  stars_x  useful  funny  cool  \\\n",
       "0  5JxlZaqCnk1MnbgRirs40Q        1       0      0     0   \n",
       "1  5JxlZaqCnk1MnbgRirs40Q        3       2      1     1   \n",
       "2  5JxlZaqCnk1MnbgRirs40Q        4       4      1     1   \n",
       "3  5JxlZaqCnk1MnbgRirs40Q        2       2      0     0   \n",
       "4  5JxlZaqCnk1MnbgRirs40Q        4       0      0     0   \n",
       "\n",
       "                                                text                date  ...  \\\n",
       "0  Dismal, lukewarm, defrosted-tasting \"TexMex\" g... 2011-05-27 05:30:52  ...   \n",
       "1  The three stars here don't represent a real re... 2012-06-26 07:51:00  ...   \n",
       "2  I've been here several times, but I never revi... 2011-02-15 02:35:38  ...   \n",
       "3  I took my folks here last weekend for dinner o... 2012-05-30 18:54:30  ...   \n",
       "4  Above average in taste & presentation, which i... 2012-11-07 00:05:33  ...   \n",
       "\n",
       "  state_y postal_code_y latitude_y longitude_y stars  review_count_y  \\\n",
       "0      NV         89135  36.118343 -115.338821   3.5              56   \n",
       "1      NV         89135  36.118343 -115.338821   3.5              56   \n",
       "2      NV         89135  36.118343 -115.338821   3.5              56   \n",
       "3      NV         89135  36.118343 -115.338821   3.5              56   \n",
       "4      NV         89135  36.118343 -115.338821   3.5              56   \n",
       "\n",
       "   is_open_y                                       attributes_y  \\\n",
       "0          0  {'RestaurantsAttire': 'u'casual'', 'Restaurant...   \n",
       "1          0  {'RestaurantsAttire': 'u'casual'', 'Restaurant...   \n",
       "2          0  {'RestaurantsAttire': 'u'casual'', 'Restaurant...   \n",
       "3          0  {'RestaurantsAttire': 'u'casual'', 'Restaurant...   \n",
       "4          0  {'RestaurantsAttire': 'u'casual'', 'Restaurant...   \n",
       "\n",
       "           categories_y                                            hours_y  \n",
       "0  Restaurants, Mexican  {'Monday': '16:0-21:0', 'Tuesday': '16:0-21:0'...  \n",
       "1  Restaurants, Mexican  {'Monday': '16:0-21:0', 'Tuesday': '16:0-21:0'...  \n",
       "2  Restaurants, Mexican  {'Monday': '16:0-21:0', 'Tuesday': '16:0-21:0'...  \n",
       "3  Restaurants, Mexican  {'Monday': '16:0-21:0', 'Tuesday': '16:0-21:0'...  \n",
       "4  Restaurants, Mexican  {'Monday': '16:0-21:0', 'Tuesday': '16:0-21:0'...  \n",
       "\n",
       "[5 rows x 36 columns]"
      ]
     },
     "execution_count": 67,
     "metadata": {},
     "output_type": "execute_result"
    }
   ],
   "source": [
    "revs = review_data.copy()\n",
    "revs.insert(0,'Label', labels)\n",
    "df = pd.merge(revs, business_data, on='business_id')\n",
    "#df = df[df['categories'].str.contains(\"Restaurant\") == True]\n",
    "df.head()"
   ]
  },
  {
   "cell_type": "code",
   "execution_count": 77,
   "metadata": {},
   "outputs": [],
   "source": [
    "# category_set = set()\n",
    "# for col, row in df.iterrows():\n",
    "#     if row['Label'] == 3:\n",
    "#         category_set.update(row['categories_y'].split(','))"
   ]
  },
  {
   "cell_type": "code",
   "execution_count": 68,
   "metadata": {},
   "outputs": [
    {
     "data": {
      "image/png": "[encoded data removed]",
      "text/plain": [
       "<Figure size 720x720 with 1 Axes>"
      ]
     },
     "metadata": {
      "needs_background": "light"
     },
     "output_type": "display_data"
    }
   ],
   "source": [
    "fig, ax = plt.subplots(figsize=(10,10))\n",
    "# #.figure(figsize=(10,10))\n",
    "# #r_df = df[df['Label'] != 1]\n",
    "scatter = ax.scatter(df['latitude_y'], df['longitude_y'], alpha=0.2, cmap='plasma', c=df['Label'])\n",
    "legend = ax.legend(*scatter.legend_elements(alpha=1), loc='upper right', title=\"Groups\")\n",
    "#plt.scatter(df['Label']+1, df['stars_x'].round(), alpha=0.002, cmap='plasma', c=df['Label'])\n",
    "#plt.margins(-0.1)\n",
    "# plt.hist(5-(df['Label']), bins=5, alpha=0.9)\n",
    "# plt.hist(df['stars_y'], bins=5, alpha=0.5)\n",
    "# plt.hist(np.abs(df['stars_y']-(5-(df['Label']))), alpha=0.5)"
   ]
  },
  {
   "cell_type": "markdown",
   "metadata": {},
   "source": [
    "# Review Analysis"
   ]
  },
  {
   "cell_type": "markdown",
   "metadata": {},
   "source": [
    "## Initial Thoughts\n",
    "My thought process behind predicting ratings based on reviews depends on the idea that a more positive review would ideally contain more positive reviews and the inverse being true for negative reviews. \n",
    "Clearly the simplest approach would be to just count the number of positive or negative words in each review or set of reviews of a particular establishment and compare it to the total words or some baseline. \n",
    "\n",
    "## Implementation\n",
    "It seemed fairly obvious that the above approach would suffer from the inclusion of extra features that did not pertain to the rating of the establishment -- such as extraneous information included by the reviewer.\n",
    "For this reason I decided to apply a tf-idf vectorization using tri-grams in hopes that it would help identify key features in the data while also reducing the occurrence of common words(stop words etc.)\n",
    "\n",
    "For my analysis I combined all the reviews for a particular establishment and treated them \n",
    "as a single corpus with multiple documents. This resulted in running the vectorizer `n` times, where `n` is the number of businesses in the data set. On each iteration, I count the number of positive, negative and neutral words(all those that don't belong in either of the other two sets) in the trigrams, summing these up to produce a single quantity for each establishment. I then applied some crude scaling to factor in the length the reviews(total word count). Applying some MinMax normalization I called this the \"score\" for each establishment\n"
   ]
  },
  {
   "cell_type": "code",
   "execution_count": 43,
   "metadata": {},
   "outputs": [],
   "source": [
    "def calc_all_ratings(input_businesses, input_reviews):\n",
    "    results = pd.DataFrame(columns=['pos', 'neg', 'neut', 'score'])\n",
    "    positive_term_set = set(opinion_lexicon.positive())\n",
    "    negative_term_set = set(opinion_lexicon.negative())\n",
    "    for i, row in input_businesses.iterrows():\n",
    "        print(i, end='\\r')\n",
    "        single_bus_reviews = input_reviews[input_reviews['business_id'] == row['business_id']]\n",
    "        vectorizer = TfidfVectorizer(use_idf=True, ngram_range=(3,3))\n",
    "        #vectorizer = CountVectorizer(ngram_range=(3,3))\n",
    "        single_result = get_single_review_rating(single_bus_reviews['text'], vectorizer, positive_term_set, negative_term_set)\n",
    "        results.loc[i] = single_result\n",
    "    return results.reset_index()    \n",
    "\n",
    "def count_ngrams_results_ratio(features, pos_terms, neg_terms): \n",
    "    pos_count = 0\n",
    "    neg_count = 0\n",
    "    neut_count = 0 \n",
    "    for col, term in enumerate(features):\n",
    "        term_set = set(term.split(\" \"))\n",
    "        pos_count = pos_count + len(term_set.intersection(positive_set))\n",
    "        neg_count = neg_count + len(term_set.intersection(neg_set))\n",
    "        neut_count = neut_count + len(term_set.difference(neg_set, positive_set))\n",
    "    total = pos_count+neg_count+neut_count\n",
    "    score = ((neut_count+pos_count)/total) / ((neut_count+neg_count)/total)\n",
    "    return (pos_count, neg_count, neut_count, score)\n",
    "\n",
    "\n",
    "def get_single_review_rating(review_list, vectorizer, pos_terms, neg_terms): \n",
    "    try:\n",
    "        x = vectorizer.fit_transform(review_list)\n",
    "    except ValueError as e:\n",
    "        print(e.traceback)\n",
    "        print(review_list.head())\n",
    "    result = count_ngrams_results_ratio(vectorizer.get_feature_names(), pos_terms, neg_terms)\n",
    "    return result\n",
    "    \n",
    "    \n",
    "    \n",
    " "
   ]
  },
  {
   "cell_type": "code",
   "execution_count": 58,
   "metadata": {
    "collapsed": true
   },
   "outputs": [
    {
     "name": "stdout",
     "output_type": "stream",
     "text": [
      "6\r"
     ]
    },
    {
     "ename": "NameError",
     "evalue": "name 'positive_set' is not defined",
     "output_type": "error",
     "traceback": [
      "\u001b[0;31m---------------------------------------------------------------------------\u001b[0m",
      "\u001b[0;31mNameError\u001b[0m                                 Traceback (most recent call last)",
      "\u001b[0;32m<ipython-input-58-0a76fb9e7925>\u001b[0m in \u001b[0;36m<module>\u001b[0;34m\u001b[0m\n\u001b[0;32m----> 1\u001b[0;31m \u001b[0mresults\u001b[0m \u001b[0;34m=\u001b[0m \u001b[0mcalc_all_ratings\u001b[0m\u001b[0;34m(\u001b[0m\u001b[0mbusiness_data\u001b[0m\u001b[0;34m,\u001b[0m \u001b[0mreview_data\u001b[0m\u001b[0;34m)\u001b[0m\u001b[0;34m\u001b[0m\u001b[0;34m\u001b[0m\u001b[0m\n\u001b[0m",
      "\u001b[0;32m<ipython-input-43-def6d26ebe3d>\u001b[0m in \u001b[0;36mcalc_all_ratings\u001b[0;34m(input_businesses, input_reviews)\u001b[0m\n\u001b[1;32m      8\u001b[0m         \u001b[0mvectorizer\u001b[0m \u001b[0;34m=\u001b[0m \u001b[0mTfidfVectorizer\u001b[0m\u001b[0;34m(\u001b[0m\u001b[0muse_idf\u001b[0m\u001b[0;34m=\u001b[0m\u001b[0;32mTrue\u001b[0m\u001b[0;34m,\u001b[0m \u001b[0mngram_range\u001b[0m\u001b[0;34m=\u001b[0m\u001b[0;34m(\u001b[0m\u001b[0;36m3\u001b[0m\u001b[0;34m,\u001b[0m\u001b[0;36m3\u001b[0m\u001b[0;34m)\u001b[0m\u001b[0;34m)\u001b[0m\u001b[0;34m\u001b[0m\u001b[0;34m\u001b[0m\u001b[0m\n\u001b[1;32m      9\u001b[0m         \u001b[0;31m#vectorizer = CountVectorizer(ngram_range=(3,3))\u001b[0m\u001b[0;34m\u001b[0m\u001b[0;34m\u001b[0m\u001b[0;34m\u001b[0m\u001b[0m\n\u001b[0;32m---> 10\u001b[0;31m         \u001b[0msingle_result\u001b[0m \u001b[0;34m=\u001b[0m \u001b[0mget_single_review_rating\u001b[0m\u001b[0;34m(\u001b[0m\u001b[0msingle_bus_reviews\u001b[0m\u001b[0;34m[\u001b[0m\u001b[0;34m'text'\u001b[0m\u001b[0;34m]\u001b[0m\u001b[0;34m,\u001b[0m \u001b[0mvectorizer\u001b[0m\u001b[0;34m,\u001b[0m \u001b[0mpositive_term_set\u001b[0m\u001b[0;34m,\u001b[0m \u001b[0mnegative_term_set\u001b[0m\u001b[0;34m)\u001b[0m\u001b[0;34m\u001b[0m\u001b[0;34m\u001b[0m\u001b[0m\n\u001b[0m\u001b[1;32m     11\u001b[0m         \u001b[0mresults\u001b[0m\u001b[0;34m.\u001b[0m\u001b[0mloc\u001b[0m\u001b[0;34m[\u001b[0m\u001b[0mi\u001b[0m\u001b[0;34m]\u001b[0m \u001b[0;34m=\u001b[0m \u001b[0msingle_result\u001b[0m\u001b[0;34m\u001b[0m\u001b[0;34m\u001b[0m\u001b[0m\n\u001b[1;32m     12\u001b[0m     \u001b[0;32mreturn\u001b[0m \u001b[0mresults\u001b[0m\u001b[0;34m.\u001b[0m\u001b[0mreset_index\u001b[0m\u001b[0;34m(\u001b[0m\u001b[0;34m)\u001b[0m\u001b[0;34m\u001b[0m\u001b[0;34m\u001b[0m\u001b[0m\n",
      "\u001b[0;32m<ipython-input-43-def6d26ebe3d>\u001b[0m in \u001b[0;36mget_single_review_rating\u001b[0;34m(review_list, vectorizer, pos_terms, neg_terms)\u001b[0m\n\u001b[1;32m     32\u001b[0m         \u001b[0mprint\u001b[0m\u001b[0;34m(\u001b[0m\u001b[0me\u001b[0m\u001b[0;34m.\u001b[0m\u001b[0mtraceback\u001b[0m\u001b[0;34m)\u001b[0m\u001b[0;34m\u001b[0m\u001b[0;34m\u001b[0m\u001b[0m\n\u001b[1;32m     33\u001b[0m         \u001b[0mprint\u001b[0m\u001b[0;34m(\u001b[0m\u001b[0mreview_list\u001b[0m\u001b[0;34m.\u001b[0m\u001b[0mhead\u001b[0m\u001b[0;34m(\u001b[0m\u001b[0;34m)\u001b[0m\u001b[0;34m)\u001b[0m\u001b[0;34m\u001b[0m\u001b[0;34m\u001b[0m\u001b[0m\n\u001b[0;32m---> 34\u001b[0;31m     \u001b[0mresult\u001b[0m \u001b[0;34m=\u001b[0m \u001b[0mcount_ngrams_results_ratio\u001b[0m\u001b[0;34m(\u001b[0m\u001b[0mvectorizer\u001b[0m\u001b[0;34m.\u001b[0m\u001b[0mget_feature_names\u001b[0m\u001b[0;34m(\u001b[0m\u001b[0;34m)\u001b[0m\u001b[0;34m,\u001b[0m \u001b[0mpos_terms\u001b[0m\u001b[0;34m,\u001b[0m \u001b[0mneg_terms\u001b[0m\u001b[0;34m)\u001b[0m\u001b[0;34m\u001b[0m\u001b[0;34m\u001b[0m\u001b[0m\n\u001b[0m\u001b[1;32m     35\u001b[0m     \u001b[0;32mreturn\u001b[0m \u001b[0mresult\u001b[0m\u001b[0;34m\u001b[0m\u001b[0;34m\u001b[0m\u001b[0m\n\u001b[1;32m     36\u001b[0m \u001b[0;34m\u001b[0m\u001b[0m\n",
      "\u001b[0;32m<ipython-input-43-def6d26ebe3d>\u001b[0m in \u001b[0;36mcount_ngrams_results_ratio\u001b[0;34m(features, pos_terms, neg_terms)\u001b[0m\n\u001b[1;32m     18\u001b[0m     \u001b[0;32mfor\u001b[0m \u001b[0mcol\u001b[0m\u001b[0;34m,\u001b[0m \u001b[0mterm\u001b[0m \u001b[0;32min\u001b[0m \u001b[0menumerate\u001b[0m\u001b[0;34m(\u001b[0m\u001b[0mfeatures\u001b[0m\u001b[0;34m)\u001b[0m\u001b[0;34m:\u001b[0m\u001b[0;34m\u001b[0m\u001b[0;34m\u001b[0m\u001b[0m\n\u001b[1;32m     19\u001b[0m         \u001b[0mterm_set\u001b[0m \u001b[0;34m=\u001b[0m \u001b[0mset\u001b[0m\u001b[0;34m(\u001b[0m\u001b[0mterm\u001b[0m\u001b[0;34m.\u001b[0m\u001b[0msplit\u001b[0m\u001b[0;34m(\u001b[0m\u001b[0;34m\" \"\u001b[0m\u001b[0;34m)\u001b[0m\u001b[0;34m)\u001b[0m\u001b[0;34m\u001b[0m\u001b[0;34m\u001b[0m\u001b[0m\n\u001b[0;32m---> 20\u001b[0;31m         \u001b[0mpos_count\u001b[0m \u001b[0;34m=\u001b[0m \u001b[0mpos_count\u001b[0m \u001b[0;34m+\u001b[0m \u001b[0mlen\u001b[0m\u001b[0;34m(\u001b[0m\u001b[0mterm_set\u001b[0m\u001b[0;34m.\u001b[0m\u001b[0mintersection\u001b[0m\u001b[0;34m(\u001b[0m\u001b[0mpositive_set\u001b[0m\u001b[0;34m)\u001b[0m\u001b[0;34m)\u001b[0m\u001b[0;34m\u001b[0m\u001b[0;34m\u001b[0m\u001b[0m\n\u001b[0m\u001b[1;32m     21\u001b[0m         \u001b[0mneg_count\u001b[0m \u001b[0;34m=\u001b[0m \u001b[0mneg_count\u001b[0m \u001b[0;34m+\u001b[0m \u001b[0mlen\u001b[0m\u001b[0;34m(\u001b[0m\u001b[0mterm_set\u001b[0m\u001b[0;34m.\u001b[0m\u001b[0mintersection\u001b[0m\u001b[0;34m(\u001b[0m\u001b[0mneg_set\u001b[0m\u001b[0;34m)\u001b[0m\u001b[0;34m)\u001b[0m\u001b[0;34m\u001b[0m\u001b[0;34m\u001b[0m\u001b[0m\n\u001b[1;32m     22\u001b[0m         \u001b[0mneut_count\u001b[0m \u001b[0;34m=\u001b[0m \u001b[0mneut_count\u001b[0m \u001b[0;34m+\u001b[0m \u001b[0mlen\u001b[0m\u001b[0;34m(\u001b[0m\u001b[0mterm_set\u001b[0m\u001b[0;34m.\u001b[0m\u001b[0mdifference\u001b[0m\u001b[0;34m(\u001b[0m\u001b[0mneg_set\u001b[0m\u001b[0;34m,\u001b[0m \u001b[0mpositive_set\u001b[0m\u001b[0;34m)\u001b[0m\u001b[0;34m)\u001b[0m\u001b[0;34m\u001b[0m\u001b[0;34m\u001b[0m\u001b[0m\n",
      "\u001b[0;31mNameError\u001b[0m: name 'positive_set' is not defined"
     ]
    }
   ],
   "source": [
    "results = calc_all_ratings(business_data, review_data)\n"
   ]
  },
  {
   "cell_type": "code",
   "execution_count": 988,
   "metadata": {},
   "outputs": [],
   "source": [
    "scaler = preprocessing.MinMaxScaler(feature_range=(1,5))\n",
    "results[[ 'score']] = scaler.fit_transform(results[['score']])"
   ]
  },
  {
   "cell_type": "code",
   "execution_count": 989,
   "metadata": {},
   "outputs": [
    {
     "name": "stdout",
     "output_type": "stream",
     "text": [
      "2.315\n"
     ]
    }
   ],
   "source": [
    "print(results.score.mean())"
   ]
  },
  {
   "cell_type": "code",
   "execution_count": 1002,
   "metadata": {},
   "outputs": [
    {
     "data": {
      "text/plain": [
       "2.315"
      ]
     },
     "execution_count": 1002,
     "metadata": {},
     "output_type": "execute_result"
    }
   ],
   "source": [
    "# Update scores to always be a half step, 1, 1.5, 2 etc. \n",
    "for col, row in results.iterrows():\n",
    "    results.loc[col] = round(row['score']*2)/2\n",
    "results.score.mean()"
   ]
  },
  {
   "cell_type": "markdown",
   "metadata": {},
   "source": [
    "## Graph\n",
    "The goal of this graph is to compare the expected results to the calculated results. If the algorithm performed a reasonable job we would expect to see a distribution of points around the line, or in a perfect world directly on the line. The area above the line represents cases of underestimation while below the line represents overestimation of a rating. "
   ]
  },
  {
   "cell_type": "code",
   "execution_count": 1000,
   "metadata": {},
   "outputs": [
    {
     "name": "stdout",
     "output_type": "stream",
     "text": [
      "\n"
     ]
    },
    {
     "data": {
      "image/png": "[encoded data removed]",
      "text/plain": [
       "<Figure size 432x288 with 1 Axes>"
      ]
     },
     "metadata": {},
     "output_type": "display_data"
    }
   ],
   "source": [
    "plt.subplots()\n",
    "plt.style.use('seaborn-whitegrid')\n",
    "plt.fill([1,5,1],[1,5,5], color='bisque', zorder=1)\n",
    "plt.text(1, 4.8, \"Under estimates\")\n",
    "plt.scatter(results.score, business_data.stars[:100], alpha=0.3, zorder=2)\n",
    "plt.plot(np.linspace(1,5),np.linspace(1,5), '--c', zorder=3)\n",
    "plt.xlabel(\"Predicted\")\n",
    "plt.ylabel(\"Expected\")\n",
    "plt.title(\"Expected vs Predicted Values\")\n",
    "print(\"\")"
   ]
  },
  {
   "cell_type": "code",
   "execution_count": 999,
   "metadata": {},
   "outputs": [
    {
     "name": "stdout",
     "output_type": "stream",
     "text": [
      "\n"
     ]
    },
    {
     "data": {
      "image/png": "[encoded data removed]",
      "text/plain": [
       "<Figure size 432x288 with 1 Axes>"
      ]
     },
     "metadata": {},
     "output_type": "display_data"
    }
   ],
   "source": [
    "plt.hist(results.score, 10)\n",
    "plt.title(\"Calculated Review Distribution\")\n",
    "print()"
   ]
  },
  {
   "cell_type": "code",
   "execution_count": 60,
   "metadata": {},
   "outputs": [
    {
     "name": "stdout",
     "output_type": "stream",
     "text": [
      "\n"
     ]
    },
    {
     "data": {
      "image/png": "[encoded data removed]",
      "text/plain": [
       "<Figure size 432x288 with 1 Axes>"
      ]
     },
     "metadata": {
      "needs_background": "light"
     },
     "output_type": "display_data"
    }
   ],
   "source": [
    "plt.hist(business_data[:1000].stars, 10)\n",
    "plt.title(\"Real Review Distribution\")\n",
    "print()"
   ]
  },
  {
   "cell_type": "markdown",
   "metadata": {},
   "source": [
    "## Result Analysis\n",
    "\n",
    "Clearly the implemented algorithm did a pretty terrible job of scoring the establishments, the mean was significantly below that of the actual data which can also be seen in the graph. I think there are a few different reasons that contribute to these poor results.\n",
    "\n",
    "### The use of tf-idf vectorization \n",
    "Although this vectorization works really well out removing un-important words to the corpus, such as 'the' or 'is' it is also removing important features, such as negative or positive words which are being used to calculate the score. For example, if a set of reviews is overwhelming negative or positive then we would expect to see a higher occurrence of those words in the corpus which means their importance would be reduced by tf-idf. This is reflected in the mean which is fairly close to `2.5`, a \"neutral\" rating in the algorithm I designed. Basically, tf-idf is neutralizing reviews and only pulling out the most extreme viewpoints, or establishments that have the most controversial reviews.\n",
    "\n",
    "### Score Calculation\n",
    "My initial score calculation attempts to factor in the length of the document into a calculation. The reasoning being that positive reviews should see a higher proportion of the total vocabulary being positive than negative reviews. Unfortutently, I think my method suffers because it is overwhelmed by the disparity of neutral words to positive/negative words. Thus, it tends to trend lower than reality. \n",
    "\n",
    "### Distribution of scores\n",
    "From the graphs above it is obvious that the distribution of my predicted scores is not at all similar to that of the actual scores. There is an obvious trend for more neutral scores, backing up the points made in the tf-idf section. In addition, the real ratings are have a heavy trend towards positivity(5 stars) with very few falling below 2 stars. \n",
    "\n",
    "## Possible Improvements\n",
    "\n",
    "### Change Vectorization Method\n",
    "One possible improvement could come from changing the vectorizer used to something simpler, such as term frequency. Although, this change would require more data cleaning, removal of stop words, punctuation etc. \n",
    "\n",
    "### Change how individual scores are calculated\n",
    "If instead of lumping all reviews for an establishment together if we kept them separate and calculated an individual review score that was then combined with a total business score somehow could provide superior results. \n",
    "\n",
    "For example, we could grade reviews on a binary scale, positive or negative and then take the percentage of positive to negative reviews as an indicator for the aggregate score. I thought of implementing this later in the process and in the interest of time did not end up going this route. \n",
    "\n",
    "### Change normalization methods \n",
    "I used MinMax normalization to bring all calculated scores within a 1-5 star range and thus preserving the original distribution. Benefits might be seen if the normalization method tried to fit the calculated ratings into some more of a normal distribution so that extreme values(highly positive or negative) did not cause the more neutral part of the dataset to concentrate as much. "
   ]
  },
  {
   "cell_type": "code",
   "execution_count": null,
   "metadata": {},
   "outputs": [],
   "source": []
  },
  {
   "cell_type": "code",
   "execution_count": null,
   "metadata": {},
   "outputs": [],
   "source": []
  }
 ],
 "metadata": {
  "kernelspec": {
   "display_name": "Python 3",
   "language": "python",
   "name": "python3"
  },
  "language_info": {
   "codemirror_mode": {
    "name": "ipython",
    "version": 3
   },
   "file_extension": ".py",
   "mimetype": "text/x-python",
   "name": "python",
   "nbconvert_exporter": "python",
   "pygments_lexer": "ipython3",
   "version": "3.6.9"
  }
 },
 "nbformat": 4,
 "nbformat_minor": 2
}
